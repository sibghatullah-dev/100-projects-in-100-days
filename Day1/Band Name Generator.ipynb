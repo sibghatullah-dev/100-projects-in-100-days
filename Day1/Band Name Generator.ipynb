{
 "cells": [
  {
   "cell_type": "code",
   "execution_count": 5,
   "id": "19e84548",
   "metadata": {},
   "outputs": [
    {
     "name": "stdout",
     "output_type": "stream",
     "text": [
      "Welcome to band name generator\n",
      "\n"
     ]
    }
   ],
   "source": [
    "print(\"Welcome to band name generator\\n\")"
   ]
  },
  {
   "cell_type": "code",
   "execution_count": 6,
   "id": "7312a061",
   "metadata": {},
   "outputs": [
    {
     "name": "stdout",
     "output_type": "stream",
     "text": [
      "Which city did you grew up in : \n",
      "D.G.Khan\n"
     ]
    }
   ],
   "source": [
    "city=input(\"Which city did you grew up in : \\n\")"
   ]
  },
  {
   "cell_type": "code",
   "execution_count": 7,
   "id": "a0eab3c0",
   "metadata": {},
   "outputs": [
    {
     "name": "stdout",
     "output_type": "stream",
     "text": [
      "what is you favourite pet : \n",
      "lion\n"
     ]
    }
   ],
   "source": [
    "pet=input(\"what is you favourite pet : \\n\")"
   ]
  },
  {
   "cell_type": "code",
   "execution_count": 8,
   "id": "7843a655",
   "metadata": {},
   "outputs": [
    {
     "name": "stdout",
     "output_type": "stream",
     "text": [
      "Your band name could be :D.G.Khan lion\n"
     ]
    }
   ],
   "source": [
    "print(\"Your band name could be :\" + city + \" \" + pet)"
   ]
  },
  {
   "cell_type": "code",
   "execution_count": null,
   "id": "b96b0d74",
   "metadata": {},
   "outputs": [],
   "source": []
  }
 ],
 "metadata": {
  "kernelspec": {
   "display_name": "Python 3 (ipykernel)",
   "language": "python",
   "name": "python3"
  },
  "language_info": {
   "codemirror_mode": {
    "name": "ipython",
    "version": 3
   },
   "file_extension": ".py",
   "mimetype": "text/x-python",
   "name": "python",
   "nbconvert_exporter": "python",
   "pygments_lexer": "ipython3",
   "version": "3.9.13"
  }
 },
 "nbformat": 4,
 "nbformat_minor": 5
}
